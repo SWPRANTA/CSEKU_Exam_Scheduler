{
 "cells": [
  {
   "cell_type": "code",
   "execution_count": 55,
   "metadata": {},
   "outputs": [],
   "source": [
    "import pandas as pd\n",
    "\n",
    "student_course = pd.DataFrame({'SID': [], 'student_name': [],\n",
    "                               'CSE-4103': [], 'CSE-4105': [], 'CSE-4121': [], 'BA-4151': [], 'SOC-4153': [],\n",
    "                               'CSE-3101': [], 'CSE-3103': [], 'CSE-3111': [], 'ECE-3151': [], 'Math-3153': [], 'Psy-3151': [], 'CSE301': [],\n",
    "                               'CSE-2101': [], '0714_02_CSE-2101': [], '0714_02_CSE-2103': [], '0714_02_CSE-2105': [], 'CSE-2111': [], '0714_02_ECE-2151': [], '0541_02_Math-2151': [], 'CSE-2113': [], 'ECE-2151': [], 'CSE-2211': [], 'Math-2253': [], 'Econ-2251': [],\n",
    "                               '0714_02_CSE-1201': [], 'CSE-1201': [], '0714_02_ECE-1251': [], '0715_02_ME-1251': [], '0541_02_Math-1251': [], '0531_02_Chem-1251': [], 'Chem-1251': [], '0311_02-Econ-1251': [], 'CSE-1203': [], 'ECE-1251': [], 'Math-1253': [], 'CSE-1103': []\n",
    "                               })\n"
   ]
  },
  {
   "cell_type": "code",
   "execution_count": 56,
   "metadata": {},
   "outputs": [],
   "source": [
    "student_course = pd.read_excel('students_courses_2024_1st_term.xlsx')"
   ]
  },
  {
   "cell_type": "code",
   "execution_count": 57,
   "metadata": {},
   "outputs": [],
   "source": [
    "course_list = {'CSE-4103': \"Computer Graphics\", 'CSE-4105': \"Computer Security\", 'CSE-4121': \"Applied Probability and Queuing Theory\", 'BA-4151': \"Accounting\", 'SOC-4153': \"Government and Sociology\",\n",
    "                               'CSE-3101': \"Database Systems\", 'CSE-3103': \"Software Engineering\", 'CSE-3111': \"Microprocessors and Microcontrollers\", 'ECE-3151': \"Data Communication\", 'Math-3153': \"Mathematical Analysis for Computer Science\", 'Psy-3151': \"Psychology\", 'CSE3201': \"Artificial Intelligence\",\n",
    "                               'CSE-2101': \"Data Structures\", '0714_02_CSE-2101': \"Data Structures\", '0714_02_CSE-2103': \"Numerical Methods for Engineers\", '0714_02_CSE-2105': \"Digital Logic Design\", 'CSE-2111': \"Digital Logic Design\", '0714_02_ECE-2151': \"Electronic Devices and Circuits\", '0541_02_Math-2151': \"Differential Equations\", 'CSE-2113': \"Advanced Programming\", 'ECE-2151': \"Digital Electronics\", 'CSE-2211': \"Information System Design\", 'Math-2253': \"Statistics and Complex Variable\", 'Econ-2251': \"Economics\",\n",
    "                               '0714_02_CSE-1201': \"Object Oriented Programming\", 'CSE-1201': \"Object Oriented Programming\", '0714_02_ECE-1251': \"Electrical Circuits\", '0715_02_ME-1251': \"Mechanics and Heat Engineering\", '0541_02_Math-1251': \"Coordinate Geometry and Linear Algebra\", '0531_02_Chem-1251': \"Chemistry\", 'Chem-1251': \"Chemistry\", '0311_02-Econ-1251': \"Economics for Engineers\", 'CSE-1203': \"Structured Programming II\", 'ECE-1251': \"Electronic Devices and Circuits\", 'Math-1253': \"Geometry and Differential Equations\", 'CSE-1103': \"Structured Programming I\"\n",
    "                               }"
   ]
  },
  {
   "cell_type": "code",
   "execution_count": 58,
   "metadata": {},
   "outputs": [],
   "source": [
    "courses_columns = student_course.columns[2:].to_list()"
   ]
  },
  {
   "cell_type": "code",
   "execution_count": 59,
   "metadata": {},
   "outputs": [],
   "source": [
    "# Function to search for students by their name\n",
    "def search_student_by_name(keyword):\n",
    "    keyword = keyword.lower()\n",
    "    results = []\n",
    "    for index, row in student_course.iterrows():\n",
    "        student_name = row['student_name'].lower()\n",
    "        if keyword in student_name:\n",
    "            courses_taken = [col for col in courses_columns if row[col] == 1.0]\n",
    "            results.append({\n",
    "                'SID': row['SID'],\n",
    "                'Student_name': row['student_name'],\n",
    "                'Courses_taken': courses_taken\n",
    "            })\n",
    "    return results"
   ]
  },
  {
   "cell_type": "code",
   "execution_count": 60,
   "metadata": {},
   "outputs": [],
   "source": [
    "def search_student_by_courses(course_keywords):\n",
    "    course_keywords = [keyword.lower() for keyword in course_keywords]\n",
    "    results = []\n",
    "    \n",
    "    for index, row in student_course.iterrows():\n",
    "        courses_taken = [col for col in courses_columns if row[col] == 1.0]\n",
    "        matching_courses = [course for course in courses_taken if any(keyword in course.lower() for keyword in course_keywords)]\n",
    "        \n",
    "        # Check if the student has all specified courses\n",
    "        if len(matching_courses) == len(course_keywords):\n",
    "            results.append({\n",
    "                'SID': row['SID'],\n",
    "                'Student_name': row['student_name'],\n",
    "                'Courses_taken': ', '.join(matching_courses)\n",
    "            })\n",
    "    \n",
    "    return results\n"
   ]
  },
  {
   "cell_type": "code",
   "execution_count": 61,
   "metadata": {},
   "outputs": [],
   "source": [
    "# Function to search for students by their SID\n",
    "def search_student_by_sid(sid):\n",
    "    results = []\n",
    "    for index, row in student_course.iterrows():\n",
    "        if row['SID'] == sid:\n",
    "            courses_taken = [col for col in courses_columns if row[col] == 1.0]\n",
    "            results.append({\n",
    "                'SID': row['SID'],\n",
    "                'Student_name': row['student_name'],\n",
    "                'Courses_taken': ', '.join(courses_taken)\n",
    "            })\n",
    "    return results"
   ]
  },
  {
   "cell_type": "code",
   "execution_count": 62,
   "metadata": {},
   "outputs": [],
   "source": [
    "import tkinter as tk\n",
    "from tkinter import ttk, messagebox"
   ]
  },
  {
   "cell_type": "code",
   "execution_count": 63,
   "metadata": {},
   "outputs": [],
   "source": [
    "# def search_student():\n",
    "#     keyword = entry_name.get().lower()\n",
    "#     results = search_student_by_name(keyword)\n",
    "#     if results:\n",
    "#         message = \"\"\n",
    "#         for result in results:\n",
    "#             message += f\"Student {result['Student_name']} (ID: {result['SID']}) has taken the following courses: {', '.join(result['Courses_taken'])}\\n\"\n",
    "#         messagebox.showinfo(\"Search Result\", message)\n",
    "#     else:\n",
    "#         messagebox.showinfo(\"Search Result\", f\"No students found matching the keyword '{keyword}'.\")\n",
    "\n",
    "# # Create the main window\n",
    "# root = tk.Tk()\n",
    "# root.title(\"Student Search\")\n",
    "\n",
    "# # Set window size\n",
    "# root.geometry(\"400x200\")  # Width x Height\n",
    "\n",
    "# # Create a label and entry for entering student name\n",
    "# label_name = tk.Label(root, text=\"Enter student name keyword:\")\n",
    "# label_name.pack()\n",
    "# entry_name = tk.Entry(root)\n",
    "# entry_name.pack()\n",
    "\n",
    "# # Create a search button\n",
    "# search_button = tk.Button(root, text=\"Search\", command=search_student)\n",
    "# search_button.pack()\n",
    "\n",
    "# # Run the GUI loop\n",
    "# root.mainloop()"
   ]
  },
  {
   "cell_type": "code",
   "execution_count": 64,
   "metadata": {},
   "outputs": [],
   "source": [
    "# Function to handle search button click for student name search\n",
    "def search_student():\n",
    "    keyword = entry.get().lower()\n",
    "    results = search_student_by_name(keyword)\n",
    "    display_search_results(results)\n",
    "\n",
    "# Function to handle search button click for course name search\n",
    "def search_courses():\n",
    "    course_keywords = entry.get().split()  # Split input into individual keywords\n",
    "    results = search_student_by_courses(course_keywords)\n",
    "    display_search_results(results)\n",
    "\n",
    "# Function to handle search button click for SID search\n",
    "def search_sid():\n",
    "    try:\n",
    "        sid = int(entry.get())\n",
    "        results = search_student_by_sid(sid)\n",
    "        display_search_results(results)\n",
    "    except ValueError:\n",
    "        messagebox.showinfo(\"Search Result\", \"Please enter a valid SID (integer).\")\n",
    "\n",
    "# Function to display search results in the treeview\n",
    "def display_search_results(results):\n",
    "    # Clear previous search results\n",
    "    result_tree.delete(*result_tree.get_children())\n",
    "    \n",
    "    # Insert new search results\n",
    "    for index, result in enumerate(results, start=1):\n",
    "        tags = ('oddrow', 'evenrow')[index % 2 == 0]  # Alternating row colors\n",
    "        result_tree.insert('', 'end', values=(result['SID'], result['Student_name'], result['Courses_taken']), tags=tags)\n",
    "\n",
    "def on_resize(event):\n",
    "    # Adjust column widths when window is resized\n",
    "    width = result_tree.winfo_width()\n",
    "    result_tree.column('#1', width=int(width * 0.2))  # Adjust the proportion as needed\n",
    "    result_tree.column('#2', width=int(width * 0.3))\n",
    "    result_tree.column('#3', width=int(width * 0.5))\n",
    "\n",
    "# Create the main window\n",
    "root = tk.Tk()\n",
    "root.title(\"Student Search\")\n",
    "\n",
    "# Set window size\n",
    "root.geometry(\"600x400\")\n",
    "\n",
    "# Set background color\n",
    "root.configure(bg='#D9EDBF')  # Change the color as desired\n",
    "\n",
    "# Create a label and entry for search\n",
    "label = tk.Label(root, text=\"Enter student name, SID, or course names separated by spaces:\")\n",
    "label.pack()\n",
    "entry = tk.Entry(root, width=50)  # Set the width here (adjust as needed)\n",
    "entry.pack()\n",
    "\n",
    "# Create a frame to contain the search buttons\n",
    "button_frame = tk.Frame(root)  # Background color same as root window\n",
    "button_frame.pack(pady=10)\n",
    "\n",
    "# Create search buttons\n",
    "search_student_button = tk.Button(button_frame, text=\"Search by Student Name\", command=search_student)\n",
    "search_student_button.pack(side=tk.LEFT, padx=5)\n",
    "search_courses_button = tk.Button(button_frame, text=\"Search by Course Names\", command=search_courses)\n",
    "search_courses_button.pack(side=tk.LEFT, padx=5)\n",
    "search_sid_button = tk.Button(button_frame, text=\"Search by SID\", command=search_sid)\n",
    "search_sid_button.pack(side=tk.LEFT, padx=5)\n",
    "\n",
    "# Create a treeview for displaying search results\n",
    "result_tree = ttk.Treeview(root, columns=('SID', 'Student_name', 'Courses_taken'), show='headings')\n",
    "result_tree.heading('SID', text='SID')\n",
    "result_tree.heading('Student_name', text='Student Name')\n",
    "result_tree.heading('Courses_taken', text='Courses Taken')\n",
    "\n",
    "# Bind resize event\n",
    "root.bind('<Configure>', on_resize)\n",
    "\n",
    "# Add tags for alternate row colors\n",
    "result_tree.tag_configure('oddrow', background='#BE7B72')  # Light gray background color\n",
    "result_tree.tag_configure('evenrow', background='#FDAF7B')     # White background color\n",
    "\n",
    "result_tree.pack(pady=10, padx=10, fill=tk.BOTH, expand=True)\n",
    "\n",
    "# Run the GUI loop\n",
    "root.mainloop()\n"
   ]
  },
  {
   "cell_type": "code",
   "execution_count": null,
   "metadata": {},
   "outputs": [],
   "source": []
  },
  {
   "cell_type": "code",
   "execution_count": null,
   "metadata": {},
   "outputs": [],
   "source": [
    "# for col in student_course.columns:\n",
    "#     if col not in [\"SID\", \"student_name\"]:\n",
    "#         student_course[col] = student_course[col].astype(int)"
   ]
  }
 ],
 "metadata": {
  "kernelspec": {
   "display_name": "Python 3",
   "language": "python",
   "name": "python3"
  },
  "language_info": {
   "codemirror_mode": {
    "name": "ipython",
    "version": 3
   },
   "file_extension": ".py",
   "mimetype": "text/x-python",
   "name": "python",
   "nbconvert_exporter": "python",
   "pygments_lexer": "ipython3",
   "version": "undefined.undefined.undefined"
  }
 },
 "nbformat": 4,
 "nbformat_minor": 2
}
